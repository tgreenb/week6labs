{
 "cells": [
  {
   "cell_type": "markdown",
   "id": "9638e9ea-d729-49d4-86ab-04ffba64342d",
   "metadata": {},
   "source": [
    "# Week 6 Independent Lab: Student Grade Entry System  \n",
    "**Author:** Thomas J. Greenberg  \n",
    "**Course:** BGEN632 Grad. Intro. to Python  \n",
    "**Term:** Spring 2025  \n",
    "**Date:** April 7, 2025  \n",
    "\n",
    "This notebook demonstrates the use of Python lists (collections) to build a basic student management system.  \n",
    "Key functionalities include viewing and adding student records, managing GPA metrics, assigning \n",
    "academic violations,  \n",
    "and providing an exit option.  "
   ]
  },
  {
   "cell_type": "markdown",
   "id": "bf84a9ce-5ea0-4d4b-a6d3-f45a3ea242dd",
   "metadata": {},
   "source": [
    "## Initial Setup and Data Structures\n",
    "\n",
    "We define five parallel lists to store student records, plus a sixth for academic violation types.  \n",
    "This avoids multidimensional structures and keeps each student record aligned by index.\n"
   ]
  },
  {
   "cell_type": "code",
   "execution_count": 8,
   "id": "f80a0694-0809-4cbf-8ef4-1f3fecd82c0a",
   "metadata": {},
   "outputs": [],
   "source": [
    "first_names = [\"Carmen\", \"Sydney\", \"Neil\", \"Marcus\"]\n",
    "last_names = [\"Berzatto\", \"Adamu\", \"Fak\", \"Brooks\"]\n",
    "majors = [\"Culinary\", \"Business\", \"Finance\", \"Art\"]\n",
    "gpas = [3.4, 3.8, 2.9, 3.2]\n",
    "academic_violations = [\"None\", \"None\", \"None\", \"None\"]\n",
    "\n",
    "violation_options = [\n",
    "    \"Copying homework\",\n",
    "    \"Cheating on exam\",\n",
    "    \"Plagiarism\",\n",
    "    \"Cheating on quiz\",\n",
    "    \"Writing paper for another student\"\n",
    "]\n"
   ]
  },
  {
   "cell_type": "markdown",
   "id": "5d5c88ca-13f2-42e6-b747-bc2e7aeed3d1",
   "metadata": {},
   "source": [
    "## Main Menu System\n",
    "\n",
    "This section defines the interactive main menu.  \n",
    "The user will be able to select options for viewing students, adding records, GPA metrics, assigning violations, or exiting.\n"
   ]
  },
  {
   "cell_type": "code",
   "execution_count": 9,
   "id": "a0bfe363-4731-48db-8443-3d4f6806a766",
   "metadata": {},
   "outputs": [],
   "source": [
    "def show_menu():\n",
    "    print(\"\\nStudent Management System Menu\")\n",
    "    print(\"1. View All Students\")\n",
    "    print(\"2. Add New Student\")\n",
    "    print(\"3. Query GPA Metrics\")\n",
    "    print(\"4. Assign Academic Violations\")\n",
    "    print(\"5. Quit\")\n",
    "\n",
    "def query_students():\n",
    "    print(\"\\nStudent List\")\n",
    "    print(\"ID. First Name Last Name, Major, GPA, Violation\")\n",
    "    for i in range(len(first_names)):\n",
    "        violation_display = academic_violations[i] if academic_violations[i] else \"None\"\n",
    "        print(f\"{i+1}. {first_names[i]} {last_names[i]}, {majors[i]}, GPA: {gpas[i]}, Violation: {violation_display}\")\n"
   ]
  },
  {
   "cell_type": "markdown",
   "id": "225d8db4-629e-4590-8ea4-db44e0e287d8",
   "metadata": {},
   "source": [
    "## Add New Student\n",
    "\n",
    "This function is responsible for adding new student data to the system's parallel lists. It prompts the user   \n",
    "for the student's first name, last name, major, and GPA, and then appends each input to its designated list.   \n",
    "For new students, the corresponding entry in the academic violations list is set to \"None\".  "
   ]
  },
  {
   "cell_type": "code",
   "execution_count": 10,
   "id": "7cae1f08-e9ae-4f3a-8c0d-41f6b0c7a7d7",
   "metadata": {},
   "outputs": [],
   "source": [
    "def add_student():\n",
    "    print(\"\\nAdd New Student\")\n",
    "\n",
    "    first = input(\"Enter first name: \")\n",
    "    last = input(\"Enter last name: \")\n",
    "    major = input(\"Enter major: \")\n",
    "\n",
    "    while True:\n",
    "        gpa_input = input(\"Enter GPA (0.0–4.0): \")\n",
    "        try:\n",
    "            gpa = float(gpa_input)\n",
    "            if 0.0 <= gpa <= 4.0:\n",
    "                break\n",
    "            else:\n",
    "                print(\"GPA must be between 0.0 and 4.0\")\n",
    "        except ValueError:\n",
    "            print(\"Invalid input. Please enter a number.\")\n",
    "\n",
    "    first_names.append(first)\n",
    "    last_names.append(last)\n",
    "    majors.append(major)\n",
    "    gpas.append(gpa)\n",
    "    academic_violations.append(\"None\")\n",
    "\n",
    "    print(f\"{first} {last} added successfully.\")\n"
   ]
  },
  {
   "cell_type": "markdown",
   "id": "56d46fd6-8883-443a-ad21-8da7b5ec5726",
   "metadata": {},
   "source": [
    "## GPA Metrics\n",
    "\n",
    "This function displays the maximum, minimum, and average GPA from the list of student records.  \n",
    "It recalculates the metrics each time the option is selected, based on the current data in the `gpas` list."
   ]
  },
  {
   "cell_type": "code",
   "execution_count": 11,
   "id": "802d7798-fce1-40db-a408-92e987ba6179",
   "metadata": {},
   "outputs": [],
   "source": [
    "def gpa_metrics():\n",
    "    print(\"\\nGPA Metrics\")\n",
    "\n",
    "    if not gpas:\n",
    "        print(\"No GPA data available.\")\n",
    "        return\n",
    "\n",
    "    max_gpa = max(gpas)\n",
    "    min_gpa = min(gpas)\n",
    "    avg_gpa = sum(gpas) / len(gpas)\n",
    "\n",
    "    print(f\"Maximum GPA: {max_gpa:.2f}\")\n",
    "    print(f\"Minimum GPA: {min_gpa:.2f}\")\n",
    "    print(f\"Average GPA: {avg_gpa:.2f}\")"
   ]
  },
  {
   "cell_type": "markdown",
   "id": "e85796d3-f9ae-4c8f-9d34-59ff89eabd6f",
   "metadata": {},
   "source": [
    "## Academic Violations\n",
    "\n",
    "This function allows assigning a single violation to a student.  \n",
    "The user first selects a student from the list, then chooses a violation from a fixed menu.  \n",
    "Each student can only have one violation at a time.\n"
   ]
  },
  {
   "cell_type": "code",
   "execution_count": 12,
   "id": "46b170ed-0394-4671-a702-acc886348f56",
   "metadata": {},
   "outputs": [],
   "source": [
    "def assign_violation():\n",
    "    print(\"\\nAssign Academic Violation\")\n",
    "\n",
    "    for i in range(len(first_names)):\n",
    "        print(f\"{i+1}. {first_names[i]} {last_names[i]}\")\n",
    "\n",
    "    while True:\n",
    "        student_input = input(\"Enter the number of the student: \")\n",
    "        try:\n",
    "            student_index = int(student_input) - 1\n",
    "            if 0 <= student_index < len(first_names):\n",
    "                break\n",
    "            else:\n",
    "                print(\"Invalid student number.\")\n",
    "        except ValueError:\n",
    "            print(\"Please enter a number.\")\n",
    "\n",
    "    for i in range(len(violation_options)):\n",
    "        print(f\"{i+1}. {violation_options[i]}\")\n",
    "\n",
    "    while True:\n",
    "        violation_input = input(\"Enter the number of the violation: \")\n",
    "        try:\n",
    "            violation_index = int(violation_input) - 1\n",
    "            if 0 <= violation_index < len(violation_options):\n",
    "                break\n",
    "            else:\n",
    "                print(\"Invalid violation number.\")\n",
    "        except ValueError:\n",
    "            print(\"Please enter a number.\")\n",
    "\n",
    "    academic_violations[student_index] = violation_options[violation_index]\n",
    "    print(f\"{first_names[student_index]} {last_names[student_index]} assigned violation: {violation_options[violation_index]}\")\n"
   ]
  },
  {
   "cell_type": "markdown",
   "id": "d500db29-9e6d-43ba-aa43-4ac19229fca3",
   "metadata": {},
   "source": [
    "## Main Program Loop\n",
    "\n",
    "This loop runs the program continuously until the user chooses to quit.  \n",
    "Each menu option triggers its corresponding function."
   ]
  },
  {
   "cell_type": "code",
   "execution_count": 6,
   "id": "b563e641-1ca7-4211-a16e-d566e70aa190",
   "metadata": {},
   "outputs": [],
   "source": [
    "def main():\n",
    "    print(\"Welcome to the Student Grade Entry System\")\n",
    "\n",
    "    while True:\n",
    "        show_menu()\n",
    "        choice = input(\"Enter your choice (1–5): \")\n",
    "\n",
    "        if choice == \"1\":\n",
    "            query_students()\n",
    "        elif choice == \"2\":\n",
    "            add_student()\n",
    "        elif choice == \"3\":\n",
    "            gpa_metrics()\n",
    "        elif choice == \"4\":\n",
    "            assign_violation()\n",
    "        elif choice == \"5\":\n",
    "            print(\"Goodbye!\")\n",
    "            break\n",
    "        else:\n",
    "            print(\"Invalid choice. Please enter a number between 1 and 5.\")\n",
    "\n",
    "        input(\"Press Enter to continue...\")\n"
   ]
  },
  {
   "cell_type": "markdown",
   "id": "c8b9df55-311d-4ad1-a103-86bca4f31524",
   "metadata": {},
   "source": [
    "## Demonstration\n",
    "\n",
    "The output presented in this section demonstrates the successful testing of the following functionalities: \n",
    "\n",
    "- GPA metrics before adding new students  \n",
    "- Two new students added (including myself)  \n",
    "- GPA metrics after new entries  \n",
    "- Two violations assigned  \n",
    "- Final student information displayed"
   ]
  },
  {
   "cell_type": "code",
   "execution_count": 13,
   "id": "35fe91d7-7f49-470b-a788-4f581da5376c",
   "metadata": {},
   "outputs": [
    {
     "name": "stdout",
     "output_type": "stream",
     "text": [
      "GPA Metrics Before Additions\n",
      "\n",
      "GPA Metrics\n",
      "Maximum GPA: 3.80\n",
      "Minimum GPA: 2.90\n",
      "Average GPA: 3.33\n",
      "\n",
      "Two new students added.\n",
      "\n",
      "GPA Metrics After Additions\n",
      "\n",
      "GPA Metrics\n",
      "Maximum GPA: 3.90\n",
      "Minimum GPA: 2.90\n",
      "Average GPA: 3.48\n",
      "\n",
      "Violations assigned to two students.\n",
      "\n",
      "Final Student List\n",
      "\n",
      "Student List\n",
      "ID. First Name Last Name, Major, GPA, Violation\n",
      "1. Carmen Berzatto, Culinary, GPA: 3.4, Violation: None\n",
      "2. Sydney Adamu, Business, GPA: 3.8, Violation: None\n",
      "3. Neil Fak, Finance, GPA: 2.9, Violation: None\n",
      "4. Marcus Brooks, Art, GPA: 3.2, Violation: None\n",
      "5. Alex Jordan, Computer Science, GPA: 3.7, Violation: Cheating on exam\n",
      "6. Thomas Greenberg, Python Studies, GPA: 3.9, Violation: Plagiarism\n"
     ]
    }
   ],
   "source": [
    "print(\"GPA Metrics Before Additions\")\n",
    "gpa_metrics()\n",
    "\n",
    "first_names.append(\"Alex\")\n",
    "last_names.append(\"Jordan\")\n",
    "majors.append(\"Computer Science\")\n",
    "gpas.append(3.7)\n",
    "academic_violations.append(\"None\")\n",
    "\n",
    "first_names.append(\"Thomas\")\n",
    "last_names.append(\"Greenberg\")\n",
    "majors.append(\"Python Studies\")\n",
    "gpas.append(3.9)\n",
    "academic_violations.append(\"None\")\n",
    "\n",
    "print(\"\\nTwo new students added.\\n\")\n",
    "\n",
    "print(\"GPA Metrics After Additions\")\n",
    "gpa_metrics()\n",
    "\n",
    "academic_violations[4] = violation_options[1]\n",
    "academic_violations[5] = violation_options[2]\n",
    "\n",
    "print(\"\\nViolations assigned to two students.\\n\")\n",
    "\n",
    "print(\"Final Student List\")\n",
    "query_students()"
   ]
  },
  {
   "cell_type": "markdown",
   "id": "5438adb2-5ef1-4225-8602-5e4fc4eb776b",
   "metadata": {},
   "source": [
    "## References\n",
    "- ChatGPT (OpenAI) – Clarified list alignment issue (see attached image GPToutput.png)  \n",
    "  https://chat.openai.com"
   ]
  },
  {
   "cell_type": "code",
   "execution_count": null,
   "id": "14f3d5d0-922f-4218-bf15-be4fc870620d",
   "metadata": {},
   "outputs": [],
   "source": []
  }
 ],
 "metadata": {
  "kernelspec": {
   "display_name": "Python 3 (ipykernel)",
   "language": "python",
   "name": "python3"
  },
  "language_info": {
   "codemirror_mode": {
    "name": "ipython",
    "version": 3
   },
   "file_extension": ".py",
   "mimetype": "text/x-python",
   "name": "python",
   "nbconvert_exporter": "python",
   "pygments_lexer": "ipython3",
   "version": "3.13.2"
  }
 },
 "nbformat": 4,
 "nbformat_minor": 5
}
