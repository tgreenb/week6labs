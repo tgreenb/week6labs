{
 "cells": [
  {
   "cell_type": "markdown",
   "id": "3ecc25f9-1763-4732-a520-d6c15a4f9617",
   "metadata": {},
   "source": [
    "# Week 6 Instructor-led Lab: Magic Crystal Ball"
   ]
  },
  {
   "cell_type": "markdown",
   "id": "d7e6a399-db75-43cb-9453-74a686f646db",
   "metadata": {},
   "source": [
    "**Author:** Thomas J. Greenberg  \n",
    "**Course:** BGEN632 Grad. Intro. to Python  \n",
    "**Term:** Spring 2025  \n",
    "**Date:** April 7, 2025  \n",
    "\n",
    "This notebook contains code for a “magic crystal ball” program based on lab assignment\n",
    "requirements outlined in the [BGEN632 Week 6 GitHub repo](https://github.com/UM-BGEN632/week6Labs).  \n",
    "The program makes use of collections, nested loops, and a random number generator.\n"
   ]
  },
  {
   "cell_type": "markdown",
   "id": "c0fbce45-e73f-4d98-a661-8fdcaa517e9b",
   "metadata": {},
   "source": [
    "### Import Modules"
   ]
  },
  {
   "cell_type": "code",
   "execution_count": 16,
   "id": "3286775b-c953-45fe-978f-5813949f041b",
   "metadata": {},
   "outputs": [],
   "source": [
    "import random as rand"
   ]
  },
  {
   "cell_type": "markdown",
   "id": "a4ffb60a-d4d4-4a08-bff7-b92d67298881",
   "metadata": {},
   "source": [
    "### Create Variables\n"
   ]
  },
  {
   "cell_type": "code",
   "execution_count": 15,
   "id": "b3670bb0-e340-4f64-8d59-86bf74e1feff",
   "metadata": {},
   "outputs": [],
   "source": [
    "fortune_responses = [\n",
    "    \"It is certain\",\n",
    "    \"It is decidedly so\",\n",
    "    \"Reply is hazy; try again\",\n",
    "    \"Concentrate and ask again\",\n",
    "    \"My reply is no\",\n",
    "    \"Outlook is not so good\",\n",
    "    \"Very doubtful\",\n",
    "    \"Yes – definitely\",\n",
    "    \"The spirits are buffering... ask later.\",\n",
    "    \"Outlook good, but only on leap years.\",\n",
    "    \"Ask again once Mercury leaves retrograde.\"\n",
    "]"
   ]
  },
  {
   "cell_type": "markdown",
   "id": "073c0dd4-d2b6-4943-9bb3-c8fb5f4bb941",
   "metadata": {},
   "source": [
    "question_asked = False    # keep track of whether a question has been asked\n",
    "service_cost = 0.0        # keep track of service cost\n",
    "\n",
    "questions = []            # the questions asked by the customer\n",
    "responses = []            # the responses provided to the customer"
   ]
  },
  {
   "cell_type": "markdown",
   "id": "a04fdea4-bbfb-407e-839a-cf6bdf77f456",
   "metadata": {},
   "source": [
    "### Create Nested Loop  "
   ]
  },
  {
   "cell_type": "markdown",
   "id": "9c6b1d20-1f06-47bc-846a-d32aba96c170",
   "metadata": {},
   "source": [
    "while True:\n",
    "    end_service = False\n",
    "\n",
    "    prompt_text = \"Ask another question\" if question_asked else \"Ask a question\"\n",
    "\n",
    "    print(\"\\nMenu:\")\n",
    "    print(f\"1. {prompt_text}\")\n",
    "    print(\"2. Review questions and responses\")\n",
    "    print(\"3. Complete services and pay\")\n",
    "\n",
    "    selection = input(\"Choose an option (1, 2, or 3): \")\n",
    "\n",
    "    if selection == \"1\":\n",
    "        print(\"Ask what you seek to know...\")\n",
    "        question = input(\"Your question: \")\n",
    "        questions.append(question)\n",
    "        question_asked = True"
   ]
  },
  {
   "cell_type": "markdown",
   "id": "b0ab7bb8-abf9-45e1-8640-9b1d86878ee6",
   "metadata": {},
   "source": [
    "### Randomness in Programming"
   ]
  },
  {
   "cell_type": "markdown",
   "id": "e0f0f8fd-2c1c-4b36-8540-c16f758a41c0",
   "metadata": {},
   "source": [
    "        response = rand.choice(fortune_responses)\n",
    "        responses.append(response)\n",
    "\n",
    "        print(\"Crystal Ball says:\", response)\n",
    "        service_cost += 30.0"
   ]
  },
  {
   "cell_type": "markdown",
   "id": "f7946889-7021-4cba-8cb9-cef8212b52a5",
   "metadata": {},
   "source": [
    "### Review Session and Complete Services"
   ]
  },
  {
   "cell_type": "markdown",
   "id": "0d0ef241-1001-49da-89b6-1bb2e4a72db9",
   "metadata": {},
   "source": [
    "    elif selection == \"2\":\n",
    "        print(\"\\n--- Your Session History ---\")\n",
    "        for i in range(len(questions)):\n",
    "            print(f\"Q{i+1}: {questions[i]}\")\n",
    "            print(f\"A{i+1}: {responses[i]}\")\n",
    "\n",
    "    elif selection == \"3\":\n",
    "        print(\"\\n--- Payment Summary ---\")\n",
    "        print(f\"Questions asked: {len(questions)}\")\n",
    "        print(f\"Total due: ${service_cost:.2f}\")\n",
    "        end_service = True\n",
    "\n",
    "    else:\n",
    "        print(\"Invalid selection. Please try again.\")\n",
    "\n",
    "    if end_service:\n",
    "        break"
   ]
  },
  {
   "cell_type": "markdown",
   "id": "9821e7d1-eb59-4ade-bc04-01dee2cb8aa2",
   "metadata": {},
   "source": [
    "### References  "
   ]
  },
  {
   "cell_type": "markdown",
   "id": "719c4e23-2f44-446b-95d3-b3c8b6d5365d",
   "metadata": {},
   "source": [
    "- Python Docs: [random module](https://docs.python.org/3/library/random.html)  "
   ]
  },
  {
   "cell_type": "markdown",
   "id": "a2c44d49-2a36-49ce-b44b-6d7de9bd5406",
   "metadata": {},
   "source": [
    "- ChatGPT – consulted for formatting guidance  \n",
    "  *Screenshot proof included in file:* `GPToutput.png`"
   ]
  }
 ],
 "metadata": {
  "kernelspec": {
   "display_name": "Python 3 (ipykernel)",
   "language": "python",
   "name": "python3"
  },
  "language_info": {
   "codemirror_mode": {
    "name": "ipython",
    "version": 3
   },
   "file_extension": ".py",
   "mimetype": "text/x-python",
   "name": "python",
   "nbconvert_exporter": "python",
   "pygments_lexer": "ipython3",
   "version": "3.13.2"
  }
 },
 "nbformat": 4,
 "nbformat_minor": 5
}
